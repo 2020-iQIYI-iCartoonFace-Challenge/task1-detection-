{
 "cells": [
  {
   "cell_type": "code",
   "execution_count": 184,
   "metadata": {},
   "outputs": [],
   "source": [
    "import pandas as pd\n",
    "import numpy as np\n",
    "annotation_path = '/Users/apple1/Desktop/2020iqiyi/dataset/personai_icartoonface_detrain/train_v1.csv'\n",
    "dataset = pd.read_csv(annotation_path, header=None)\n",
    "dataset.columns = ['image_name','x_min', 'y_min','x_max','y_max']\n",
    "\n",
    "image_ids = dataset.iloc[:,[0]].values\n"
   ]
  },
  {
   "cell_type": "code",
   "execution_count": 185,
   "metadata": {},
   "outputs": [
    {
     "data": {
      "text/plain": [
       "array(['personai_icartoonface_dettrain_00001.jpg',\n",
       "       'personai_icartoonface_dettrain_00002.jpg',\n",
       "       'personai_icartoonface_dettrain_00003.jpg',\n",
       "       'personai_icartoonface_dettrain_00004.jpg',\n",
       "       'personai_icartoonface_dettrain_00005.jpg',\n",
       "       'personai_icartoonface_dettrain_00008.jpg',\n",
       "       'personai_icartoonface_dettrain_00010.jpg',\n",
       "       'personai_icartoonface_dettrain_00012.jpg',\n",
       "       'personai_icartoonface_dettrain_00017.jpg',\n",
       "       'personai_icartoonface_dettrain_00018.jpg',\n",
       "       'personai_icartoonface_dettrain_00020.jpg',\n",
       "       'personai_icartoonface_dettrain_00027.jpg',\n",
       "       'personai_icartoonface_dettrain_00030.jpg',\n",
       "       'personai_icartoonface_dettrain_00031.jpg',\n",
       "       'personai_icartoonface_dettrain_00036.jpg',\n",
       "       'personai_icartoonface_dettrain_00038.jpg',\n",
       "       'personai_icartoonface_dettrain_00039.jpg',\n",
       "       'personai_icartoonface_dettrain_00045.jpg',\n",
       "       'personai_icartoonface_dettrain_00046.jpg',\n",
       "       'personai_icartoonface_dettrain_00050.jpg'], dtype=object)"
      ]
     },
     "execution_count": 185,
     "metadata": {},
     "output_type": "execute_result"
    }
   ],
   "source": [
    "image_ids = np.unique(image_ids)\n",
    "image_ids"
   ]
  },
  {
   "cell_type": "code",
   "execution_count": 186,
   "metadata": {},
   "outputs": [],
   "source": [
    "annotation_file = open('/Users/apple1/Desktop/2020iqiyi/yolo/keras-yolo3-master/datasets/imageAdress.txt', 'w')\n",
    "for image_id in image_ids:\n",
    "    annotation_file.write('/Users/apple1/Desktop/2020iqiyi/dataset/personai_icartoonface_detrain/trainbild/%s'%image_id + '\\n')\n",
    "annotation_file.close()"
   ]
  },
  {
   "cell_type": "code",
   "execution_count": 210,
   "metadata": {},
   "outputs": [],
   "source": [
    "info_file = open('/Users/apple1/Desktop/2020iqiyi/yolo/keras-yolo3-master/datasets/train_location.txt', 'w')\n",
    "for image_id in image_ids:\n",
    "    box_list = dataset[dataset.image_name.values == image_id].index.tolist()\n",
    "    image_path = '/Users/apple1/Desktop/2020iqiyi/yolo/keras-yolo3-master/datasets/JPEGImages/%s'%image_id\n",
    "    info_file.write(image_path)\n",
    "    for i in box_list: \n",
    "        info_file.write(' '+','.join([str(a) for a in dataset.iloc[i,[1,2,3,4]].values])+',0')\n",
    "    info_file.write('\\n')\n",
    "info_file.close()"
   ]
  },
  {
   "cell_type": "code",
   "execution_count": 212,
   "metadata": {},
   "outputs": [],
   "source": [
    "'''    \n",
    "    with open('/Users/apple1/Desktop/2020iqiyi/yolo/keras-yolo3-master/datasets/train_location.txt') as f:\n",
    "        lines = f.readlines()\n",
    "        \n",
    "    for line in lines:\n",
    "        line = line.split()\n",
    "        box_data =[]\n",
    "        box = np.zeros([6,5])\n",
    "        i=0\n",
    "        j=0\n",
    "        for n in line[1:]:\n",
    "            for m in n.split(','):\n",
    "                box[i][j]=(int(m))\n",
    "                j =j+1\n",
    "            i = i+1\n",
    "            j=0\n",
    "        box_data.append(box)\n",
    "        \n",
    "        #box = np.array([np.array(list(map(int,b.split(',')))) for b in line[1:]])\n",
    "        #print(type(box))\n",
    "        #print(box)\n",
    "        #print('............')\n",
    "'''\n",
    "                \n"
   ]
  }
 ],
 "metadata": {
  "kernelspec": {
   "display_name": "Python 3",
   "language": "python",
   "name": "python3"
  },
  "language_info": {
   "codemirror_mode": {
    "name": "ipython",
    "version": 3
   },
   "file_extension": ".py",
   "mimetype": "text/x-python",
   "name": "python",
   "nbconvert_exporter": "python",
   "pygments_lexer": "ipython3",
   "version": "3.7.5"
  }
 },
 "nbformat": 4,
 "nbformat_minor": 4
}
